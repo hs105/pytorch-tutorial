{
 "cells": [
  {
   "cell_type": "code",
   "execution_count": 3,
   "metadata": {},
   "outputs": [
    {
     "name": "stdout",
     "output_type": "stream",
     "text": [
      "graph(%self : ClassType<LinearInLinear>,\n",
      "      %input : Float(1, 3)):\n",
      "  %1 : ClassType<Linear> = prim::GetAttr[name=\"l\"](%self)\n",
      "  %weight : Tensor = prim::GetAttr[name=\"weight\"](%1)\n",
      "  %bias : Tensor = prim::GetAttr[name=\"bias\"](%1)\n",
      "  %5 : Float(3, 5) = aten::t(%weight), scope: LinearInLinear/Linear[l] # /Users/dongcui/opt/anaconda3/envs/sparse/lib/python3.7/site-packages/torch/nn/functional.py:1370:0\n",
      "  %6 : int = prim::Constant[value=1](), scope: LinearInLinear/Linear[l] # /Users/dongcui/opt/anaconda3/envs/sparse/lib/python3.7/site-packages/torch/nn/functional.py:1370:0\n",
      "  %7 : int = prim::Constant[value=1](), scope: LinearInLinear/Linear[l] # /Users/dongcui/opt/anaconda3/envs/sparse/lib/python3.7/site-packages/torch/nn/functional.py:1370:0\n",
      "  %8 : Float(1, 5) = aten::addmm(%bias, %input, %5, %6, %7), scope: LinearInLinear/Linear[l] # /Users/dongcui/opt/anaconda3/envs/sparse/lib/python3.7/site-packages/torch/nn/functional.py:1370:0\n",
      "  return (%8)\n",
      "\n"
     ]
    }
   ],
   "source": [
    "import torch\n",
    "import torch.nn as nn\n",
    "import torch.nn.functional as F\n",
    "import torchvision\n",
    "from torch.autograd import Variable\n",
    "from tensorboardX import SummaryWriter\n",
    "\n",
    "dummy_input = (torch.zeros(1, 3),)\n",
    "\n",
    "\n",
    "class LinearInLinear(nn.Module):\n",
    "    def __init__(self):\n",
    "        super(LinearInLinear, self).__init__()\n",
    "        self.l = nn.Linear(3, 5)\n",
    "\n",
    "    def forward(self, x):\n",
    "        return self.l(x)\n",
    "\n",
    "with SummaryWriter(comment='LinearInLinear') as w:\n",
    "    w.add_graph(LinearInLinear(), dummy_input, True)"
   ]
  }
 ],
 "metadata": {
  "kernelspec": {
   "display_name": "Python 3",
   "language": "python",
   "name": "python3"
  },
  "language_info": {
   "codemirror_mode": {
    "name": "ipython",
    "version": 3
   },
   "file_extension": ".py",
   "mimetype": "text/x-python",
   "name": "python",
   "nbconvert_exporter": "python",
   "pygments_lexer": "ipython3",
   "version": "3.7.5"
  }
 },
 "nbformat": 4,
 "nbformat_minor": 2
}
